{
 "cells": [
  {
   "cell_type": "markdown",
   "metadata": {},
   "source": [
    "# This is my first jupyter notebook:\n",
    "\n",
    "You can even include LaTeX code: $$P([X \\leq x]) = \\frac{1}{\\sqrt{2 \\pi}} \\int_{-\\infty}^{x} e^{-\\frac{1}{2} x^2} dx$$"
   ]
  },
  {
   "cell_type": "markdown",
   "metadata": {},
   "source": [
    "# Kapitel 2 & 3: Python Basics"
   ]
  },
  {
   "cell_type": "code",
   "execution_count": 1,
   "metadata": {
    "scrolled": true
   },
   "outputs": [
    {
     "name": "stdout",
     "output_type": "stream",
     "text": [
      "Hallo Welt!\n",
      "Ciao Welt!\n"
     ]
    }
   ],
   "source": [
    "print(\"Hallo Welt!\")\n",
    "print(\"Ciao Welt!\")"
   ]
  },
  {
   "cell_type": "code",
   "execution_count": 2,
   "metadata": {},
   "outputs": [
    {
     "data": {
      "text/plain": [
       "16"
      ]
     },
     "execution_count": 2,
     "metadata": {},
     "output_type": "execute_result"
    }
   ],
   "source": [
    "2**4"
   ]
  },
  {
   "cell_type": "code",
   "execution_count": 3,
   "metadata": {},
   "outputs": [],
   "source": [
    "import math\n",
    "a = math.sqrt(9)"
   ]
  },
  {
   "cell_type": "code",
   "execution_count": 4,
   "metadata": {},
   "outputs": [
    {
     "name": "stdout",
     "output_type": "stream",
     "text": [
      "3.0\n"
     ]
    }
   ],
   "source": [
    "print(a)"
   ]
  },
  {
   "cell_type": "code",
   "execution_count": 5,
   "metadata": {},
   "outputs": [
    {
     "name": "stdout",
     "output_type": "stream",
     "text": [
      "4.5\n"
     ]
    }
   ],
   "source": [
    "import numpy as np\n",
    "list_mean = np.mean([2, 4, 6, 6])\n",
    "print(list_mean)"
   ]
  },
  {
   "cell_type": "code",
   "execution_count": 6,
   "metadata": {},
   "outputs": [
    {
     "data": {
      "text/plain": [
       "3"
      ]
     },
     "execution_count": 6,
     "metadata": {},
     "output_type": "execute_result"
    }
   ],
   "source": [
    "my_list = [1, 2, 3]\n",
    "len(my_list)"
   ]
  },
  {
   "cell_type": "code",
   "execution_count": 7,
   "metadata": {},
   "outputs": [
    {
     "name": "stdout",
     "output_type": "stream",
     "text": [
      "Josephine, Milka, Philippa\n"
     ]
    }
   ],
   "source": [
    "kinder = [\"Josephine\", \"Milka\", \"Philippa\"]\n",
    "print(\", \".join(kinder))"
   ]
  },
  {
   "cell_type": "code",
   "execution_count": 8,
   "metadata": {},
   "outputs": [
    {
     "name": "stdout",
     "output_type": "stream",
     "text": [
      "['Josephine', ' Milka', ' Philippa']\n"
     ]
    }
   ],
   "source": [
    "kinder_zusammen = \", \".join(kinder)\n",
    "print(kinder_zusammen.split(\",\"))"
   ]
  },
  {
   "cell_type": "markdown",
   "metadata": {},
   "source": [
    "# Kapitel 4: Kontrollstrukturen"
   ]
  },
  {
   "cell_type": "code",
   "execution_count": 1,
   "metadata": {},
   "outputs": [
    {
     "name": "stdout",
     "output_type": "stream",
     "text": [
      "one\n",
      "two\n",
      "Three\n"
     ]
    }
   ],
   "source": [
    "n = 13\n",
    "if n < 42:\n",
    "    print(\"one\")\n",
    "    print(\"two\")\n",
    "print(\"Three\")"
   ]
  },
  {
   "cell_type": "code",
   "execution_count": 2,
   "metadata": {},
   "outputs": [
    {
     "name": "stdout",
     "output_type": "stream",
     "text": [
      "Three\n"
     ]
    }
   ],
   "source": [
    "n = 77\n",
    "if n < 42:\n",
    "    print(\"one\")\n",
    "    print(\"two\")\n",
    "print(\"Three\")"
   ]
  },
  {
   "cell_type": "code",
   "execution_count": 3,
   "metadata": {},
   "outputs": [
    {
     "name": "stdout",
     "output_type": "stream",
     "text": [
      "ungerade\n"
     ]
    }
   ],
   "source": [
    "n = 17\n",
    "if n % 2 == 0:\n",
    "    print(\"gerade\")\n",
    "else:\n",
    "    print(\"ungerade\")"
   ]
  },
  {
   "cell_type": "code",
   "execution_count": 5,
   "metadata": {},
   "outputs": [
    {
     "ename": "SyntaxError",
     "evalue": "invalid syntax (<ipython-input-5-202886d1a5c7>, line 1)",
     "output_type": "error",
     "traceback": [
      "\u001b[1;36m  File \u001b[1;32m\"<ipython-input-5-202886d1a5c7>\"\u001b[1;36m, line \u001b[1;32m1\u001b[0m\n\u001b[1;33m    elif(n % 2 ==0, print(\"gerade\"), print(\"ungerade\"))\u001b[0m\n\u001b[1;37m       ^\u001b[0m\n\u001b[1;31mSyntaxError\u001b[0m\u001b[1;31m:\u001b[0m invalid syntax\n"
     ]
    }
   ],
   "source": [
    "elif(n % 2 ==0, print(\"gerade\"), print(\"ungerade\"))"
   ]
  },
  {
   "cell_type": "code",
   "execution_count": 16,
   "metadata": {},
   "outputs": [
    {
     "name": "stdout",
     "output_type": "stream",
     "text": [
      "Rest 2\n"
     ]
    }
   ],
   "source": [
    "n = 17\n",
    "if n % 3 == 0:\n",
    "    print(\"Ohne Rest\")\n",
    "elif n % 3 == 1:\n",
    "    print(\"Rest 1\")\n",
    "else:\n",
    "    print(\"Rest 2\")"
   ]
  },
  {
   "cell_type": "code",
   "execution_count": 7,
   "metadata": {},
   "outputs": [
    {
     "ename": "NameError",
     "evalue": "name 'equals' is not defined",
     "output_type": "error",
     "traceback": [
      "\u001b[1;31m---------------------------------------------------------------------------\u001b[0m",
      "\u001b[1;31mNameError\u001b[0m                                 Traceback (most recent call last)",
      "\u001b[1;32m<ipython-input-7-ebfab9d2fb70>\u001b[0m in \u001b[0;36m<module>\u001b[1;34m\u001b[0m\n\u001b[1;32m----> 1\u001b[1;33m \u001b[0mequals\u001b[0m\u001b[1;33m(\u001b[0m\u001b[1;36m5\u001b[0m\u001b[1;33m,\u001b[0m \u001b[1;36m5\u001b[0m\u001b[1;33m)\u001b[0m\u001b[1;33m\u001b[0m\u001b[1;33m\u001b[0m\u001b[0m\n\u001b[0m",
      "\u001b[1;31mNameError\u001b[0m: name 'equals' is not defined"
     ]
    }
   ],
   "source": [
    "equals(5, 5)"
   ]
  },
  {
   "cell_type": "code",
   "execution_count": 8,
   "metadata": {},
   "outputs": [
    {
     "data": {
      "text/plain": [
       "False"
      ]
     },
     "execution_count": 8,
     "metadata": {},
     "output_type": "execute_result"
    }
   ],
   "source": [
    "35<40 & True"
   ]
  },
  {
   "cell_type": "code",
   "execution_count": 9,
   "metadata": {},
   "outputs": [
    {
     "data": {
      "text/plain": [
       "True"
      ]
     },
     "execution_count": 9,
     "metadata": {},
     "output_type": "execute_result"
    }
   ],
   "source": [
    "35<40"
   ]
  },
  {
   "cell_type": "code",
   "execution_count": 10,
   "metadata": {},
   "outputs": [
    {
     "data": {
      "text/plain": [
       "True"
      ]
     },
     "execution_count": 10,
     "metadata": {},
     "output_type": "execute_result"
    }
   ],
   "source": [
    "True\n"
   ]
  },
  {
   "cell_type": "code",
   "execution_count": 11,
   "metadata": {},
   "outputs": [
    {
     "data": {
      "text/plain": [
       "True"
      ]
     },
     "execution_count": 11,
     "metadata": {},
     "output_type": "execute_result"
    }
   ],
   "source": [
    "35<40 and True"
   ]
  },
  {
   "cell_type": "code",
   "execution_count": 12,
   "metadata": {},
   "outputs": [
    {
     "data": {
      "text/plain": [
       "True"
      ]
     },
     "execution_count": 12,
     "metadata": {},
     "output_type": "execute_result"
    }
   ],
   "source": [
    "kinder = [\"Josephine\", \"Milka\", \"Philippa\"]\n",
    "\"Josephine\" in kinder"
   ]
  },
  {
   "cell_type": "code",
   "execution_count": 14,
   "metadata": {},
   "outputs": [
    {
     "ename": "TypeError",
     "evalue": "'<' not supported between instances of 'list' and 'int'",
     "output_type": "error",
     "traceback": [
      "\u001b[1;31m---------------------------------------------------------------------------\u001b[0m",
      "\u001b[1;31mTypeError\u001b[0m                                 Traceback (most recent call last)",
      "\u001b[1;32m<ipython-input-14-b884b92971d0>\u001b[0m in \u001b[0;36m<module>\u001b[1;34m\u001b[0m\n\u001b[0;32m      1\u001b[0m \u001b[0mintegers\u001b[0m \u001b[1;33m=\u001b[0m \u001b[1;33m[\u001b[0m\u001b[1;36m1\u001b[0m\u001b[1;33m,\u001b[0m \u001b[1;36m2\u001b[0m\u001b[1;33m,\u001b[0m \u001b[1;36m3\u001b[0m\u001b[1;33m,\u001b[0m \u001b[1;36m4\u001b[0m\u001b[1;33m,\u001b[0m \u001b[1;36m5\u001b[0m\u001b[1;33m,\u001b[0m \u001b[1;36m6\u001b[0m\u001b[1;33m,\u001b[0m \u001b[1;36m7\u001b[0m\u001b[1;33m]\u001b[0m\u001b[1;33m\u001b[0m\u001b[1;33m\u001b[0m\u001b[0m\n\u001b[1;32m----> 2\u001b[1;33m \u001b[0mintegers\u001b[0m \u001b[1;33m<\u001b[0m \u001b[1;36m7\u001b[0m\u001b[1;33m\u001b[0m\u001b[1;33m\u001b[0m\u001b[0m\n\u001b[0m",
      "\u001b[1;31mTypeError\u001b[0m: '<' not supported between instances of 'list' and 'int'"
     ]
    }
   ],
   "source": [
    "integers = [1, 2, 3, 4, 5, 6, 7]\n",
    "integers < 7\n"
   ]
  },
  {
   "cell_type": "code",
   "execution_count": 15,
   "metadata": {},
   "outputs": [
    {
     "data": {
      "text/plain": [
       "True"
      ]
     },
     "execution_count": 15,
     "metadata": {},
     "output_type": "execute_result"
    }
   ],
   "source": [
    "zeichenkette = \"Ich bin ein Berliner!\"\n",
    "\"!\" in zeichenkette"
   ]
  },
  {
   "cell_type": "code",
   "execution_count": 17,
   "metadata": {},
   "outputs": [
    {
     "data": {
      "text/plain": [
       "False"
      ]
     },
     "execution_count": 17,
     "metadata": {},
     "output_type": "execute_result"
    }
   ],
   "source": [
    "not 4>3"
   ]
  },
  {
   "cell_type": "code",
   "execution_count": 3,
   "metadata": {},
   "outputs": [
    {
     "name": "stdout",
     "output_type": "stream",
     "text": [
      "0\n",
      "1\n",
      "2\n",
      "3\n",
      "4\n",
      "5\n",
      "6\n",
      "7\n",
      "8\n",
      "9\n"
     ]
    }
   ],
   "source": [
    "counter = 0\n",
    "while counter < 10:\n",
    "    print(counter)\n",
    "    counter = counter + 1"
   ]
  },
  {
   "cell_type": "code",
   "execution_count": 4,
   "metadata": {},
   "outputs": [
    {
     "name": "stdout",
     "output_type": "stream",
     "text": [
      "0\n",
      "1\n",
      "2\n",
      "3\n",
      "4\n",
      "5\n",
      "6\n",
      "7\n",
      "8\n",
      "9\n"
     ]
    }
   ],
   "source": [
    "for i in range(0, 10):\n",
    "    print(i)"
   ]
  },
  {
   "cell_type": "code",
   "execution_count": 5,
   "metadata": {},
   "outputs": [
    {
     "data": {
      "text/plain": [
       "range(0, 10)"
      ]
     },
     "execution_count": 5,
     "metadata": {},
     "output_type": "execute_result"
    }
   ],
   "source": [
    "range(0, 10)"
   ]
  },
  {
   "cell_type": "code",
   "execution_count": 6,
   "metadata": {},
   "outputs": [],
   "source": [
    "pseudo_liste = range(0, 10)"
   ]
  },
  {
   "cell_type": "code",
   "execution_count": 8,
   "metadata": {},
   "outputs": [
    {
     "name": "stdout",
     "output_type": "stream",
     "text": [
      "range(0, 10)\n"
     ]
    }
   ],
   "source": [
    "print(pseudo_liste)"
   ]
  },
  {
   "cell_type": "code",
   "execution_count": 9,
   "metadata": {},
   "outputs": [
    {
     "data": {
      "text/plain": [
       "range(0, 10, 2)"
      ]
     },
     "execution_count": 9,
     "metadata": {},
     "output_type": "execute_result"
    }
   ],
   "source": [
    "range(0, 10, 2)"
   ]
  },
  {
   "cell_type": "code",
   "execution_count": 11,
   "metadata": {},
   "outputs": [
    {
     "name": "stdout",
     "output_type": "stream",
     "text": [
      "0\n",
      "2\n"
     ]
    }
   ],
   "source": [
    "for i in range(0, 10 ,2):\n",
    "    if i == 3:\n",
    "        continue\n",
    "    elif i == 4:\n",
    "        break\n",
    "    print(i)"
   ]
  },
  {
   "cell_type": "code",
   "execution_count": 12,
   "metadata": {},
   "outputs": [
    {
     "ename": "TypeError",
     "evalue": "can only concatenate str (not \"int\") to str",
     "output_type": "error",
     "traceback": [
      "\u001b[1;31m---------------------------------------------------------------------------\u001b[0m",
      "\u001b[1;31mTypeError\u001b[0m                                 Traceback (most recent call last)",
      "\u001b[1;32m<ipython-input-12-dda99cae7c61>\u001b[0m in \u001b[0;36m<module>\u001b[1;34m\u001b[0m\n\u001b[1;32m----> 1\u001b[1;33m \u001b[0mprint\u001b[0m\u001b[1;33m(\u001b[0m\u001b[1;34m\"Hallo\"\u001b[0m \u001b[1;33m+\u001b[0m \u001b[1;36m13\u001b[0m\u001b[1;33m)\u001b[0m\u001b[1;33m\u001b[0m\u001b[1;33m\u001b[0m\u001b[0m\n\u001b[0m",
      "\u001b[1;31mTypeError\u001b[0m: can only concatenate str (not \"int\") to str"
     ]
    }
   ],
   "source": [
    "print(\"Hallo\" + 13)"
   ]
  },
  {
   "cell_type": "markdown",
   "metadata": {},
   "source": [
    "# Abschnitt 6: Funktionen"
   ]
  },
  {
   "cell_type": "code",
   "execution_count": 14,
   "metadata": {},
   "outputs": [],
   "source": [
    "import random\n",
    "random.seed(1234)"
   ]
  },
  {
   "cell_type": "code",
   "execution_count": 15,
   "metadata": {},
   "outputs": [
    {
     "name": "stdout",
     "output_type": "stream",
     "text": [
      "heya!\n",
      "heya!\n"
     ]
    }
   ],
   "source": [
    "def multi_print(string):\n",
    "    for i in range(0,2):\n",
    "        print(string)\n",
    "multi_print(\"heya!\")"
   ]
  },
  {
   "cell_type": "code",
   "execution_count": 16,
   "metadata": {},
   "outputs": [],
   "source": [
    "def mult_by_two(x):\n",
    "    return(x*2)"
   ]
  },
  {
   "cell_type": "code",
   "execution_count": 18,
   "metadata": {},
   "outputs": [
    {
     "data": {
      "text/plain": [
       "4"
      ]
     },
     "execution_count": 18,
     "metadata": {},
     "output_type": "execute_result"
    }
   ],
   "source": [
    "mult_by_two(2)"
   ]
  },
  {
   "cell_type": "markdown",
   "metadata": {},
   "source": [
    "## Files"
   ]
  },
  {
   "cell_type": "code",
   "execution_count": 27,
   "metadata": {},
   "outputs": [
    {
     "name": "stdout",
     "output_type": "stream",
     "text": [
      "Read\n",
      "me\n",
      "please\n"
     ]
    }
   ],
   "source": [
    "my_file = open(\"readme.txt\", \"r\")\n",
    "for line in my_file:\n",
    "    print(line.strip())\n",
    "my_file.close()"
   ]
  },
  {
   "cell_type": "code",
   "execution_count": 29,
   "metadata": {},
   "outputs": [],
   "source": [
    "my_out_file = open(\"write.txt\", \"w\")\n",
    "my_out_file.write(\"Write\\n\")\n",
    "my_out_file.write(\"me\\n\")\n",
    "my_out_file.write(\"please\\n\")\n",
    "my_out_file.close()"
   ]
  },
  {
   "cell_type": "code",
   "execution_count": 30,
   "metadata": {},
   "outputs": [],
   "source": [
    "my_out_file = open(\"write.txt\", \"a\")\n",
    "my_out_file.write(\"Append\\n\")\n",
    "my_out_file.write(\"me\\n\")\n",
    "my_out_file.write(\"please\\n\")\n",
    "my_out_file.close()"
   ]
  },
  {
   "cell_type": "code",
   "execution_count": 1,
   "metadata": {},
   "outputs": [],
   "source": [
    "# Automatically closes my_out_file, even if errors occur during the code block\n",
    "with open(\"write.txt\", \"a\") as my_out_file:\n",
    "    my_out_file.write(\"Append\\n\")\n",
    "    my_out_file.write(\"me\\n\")\n",
    "    my_out_file.write(\"with\\n\")"
   ]
  },
  {
   "cell_type": "code",
   "execution_count": 1,
   "metadata": {},
   "outputs": [
    {
     "name": "stdout",
     "output_type": "stream",
     "text": [
      "[['Muenchen', '1800000', 'MUC'], ['Berlin', '3500000', 'Berlin'], ['Budapest', '2000000', 'BUD']]\n"
     ]
    }
   ],
   "source": [
    "data = []\n",
    "with open(\"datei.csv\") as file:\n",
    "    for line in file:\n",
    "        data.append(line.strip().split(\";\"))\n",
    "print(data)"
   ]
  },
  {
   "cell_type": "markdown",
   "metadata": {},
   "source": [
    "## Plots"
   ]
  },
  {
   "cell_type": "code",
   "execution_count": 11,
   "metadata": {
    "scrolled": true
   },
   "outputs": [
    {
     "data": {
      "image/png": "[encoded data removed]",
      "text/plain": [
       "<Figure size 432x288 with 1 Axes>"
      ]
     },
     "metadata": {
      "needs_background": "light"
     },
     "output_type": "display_data"
    }
   ],
   "source": [
    "import matplotlib.pyplot as plt\n",
    "import numpy as np\n",
    "\n",
    "xs = np.array(range(-20, 21, 1))\n",
    "ys = xs**2\n",
    "\n",
    "plt.plot(xs, ys)\n",
    "plt.show()"
   ]
  },
  {
   "cell_type": "markdown",
   "metadata": {},
   "source": [
    "## Example: Name distribution in U.S."
   ]
  },
  {
   "cell_type": "code",
   "execution_count": 11,
   "metadata": {},
   "outputs": [
    {
     "name": "stdout",
     "output_type": "stream",
     "text": [
      "C:\\Users\\prege\\OneDrive\\Dokumente\\Projekte\\Python\\Jupyter\\Udemy\\data\\names.csv\n",
      "Id,Name,Year,Gender,State,Count\n",
      "1,Mary,1910,F,AK,14\n",
      "2,Annie,1910,F,AK,12\n",
      "3,Anna,1910,F,AK,10\n",
      "4,Margaret,1910,F,AK,8\n"
     ]
    }
   ],
   "source": [
    "import os\n",
    "cwd = os.getcwd()\n",
    "input_file = cwd + \"\\\\data\\\\names.csv\"\n",
    "print(input_file)\n",
    "\n",
    "with open(input_file, \"r\") as file:\n",
    "    counter = 0\n",
    "    for line in file:\n",
    "        data = line.strip()\n",
    "        print(data)\n",
    "        counter = counter + 1\n",
    "        if counter>4:\n",
    "            break"
   ]
  },
  {
   "cell_type": "code",
   "execution_count": 15,
   "metadata": {},
   "outputs": [
    {
     "name": "stdout",
     "output_type": "stream",
     "text": [
      "3789467,Philipp,1964,M,NY,5\n",
      "3803319,Philipp,1976,M,NY,5\n"
     ]
    }
   ],
   "source": [
    "with open(input_file, \"r\") as file:\n",
    "    for line in file:\n",
    "        if line.split(\",\")[1]==\"Philipp\":\n",
    "            print(line.strip())"
   ]
  },
  {
   "cell_type": "code",
   "execution_count": 36,
   "metadata": {
    "scrolled": true
   },
   "outputs": [
    {
     "data": {
      "image/png": "[encoded data removed]",
      "text/plain": [
       "<Figure size 432x288 with 1 Axes>"
      ]
     },
     "metadata": {
      "needs_background": "light"
     },
     "output_type": "display_data"
    }
   ],
   "source": [
    "import os\n",
    "cwd = os.getcwd()\n",
    "input_file = cwd + \"\\\\data\\\\names.csv\"\n",
    "\n",
    "xs = []\n",
    "ys = []\n",
    "\n",
    "name = \"Emil\"\n",
    "gender = \"M\"\n",
    "state = \"NY\"\n",
    "\n",
    "# Read csv file and add occurrence of name/gender/state to data\n",
    "with open(input_file, \"r\") as file:\n",
    "    for line in file:\n",
    "        data = line.strip().split(\",\")\n",
    "        if data[1] == name and data[3] == gender and data[4] == state:\n",
    "            xs.append(int(data[2])) # add year of occurrence\n",
    "            ys.append(int(data[5])) # add number of births for that year\n",
    "\n",
    "\n",
    "# Print results\n",
    "#print(xs)\n",
    "#print(ys)\n",
    "            \n",
    "# Plot results\n",
    "import matplotlib.pyplot as plt\n",
    "plt.plot(xs, ys)\n",
    "plt.title(\"Occurrences for name \" + name + \"(\" + gender + \") in \" + state + \":\")\n",
    "plt.show()"
   ]
  },
  {
   "cell_type": "code",
   "execution_count": 7,
   "metadata": {},
   "outputs": [
    {
     "name": "stdout",
     "output_type": "stream",
     "text": [
      "There are 6385 occurrences for \"Max\"(M) in CA between 1950 and 2000.\n"
     ]
    }
   ],
   "source": [
    "import os\n",
    "cwd = os.getcwd()\n",
    "input_file = cwd + \"\\\\data\\\\names.csv\"\n",
    "\n",
    "counter = 0\n",
    "min_year = 1950\n",
    "max_year = 2000\n",
    "name = \"Max\"\n",
    "gender = \"M\"\n",
    "state = \"CA\"\n",
    "\n",
    "with open(input_file) as file:\n",
    "    for line in file:\n",
    "        data = line.strip().split(\",\")\n",
    "        if data[1] == name and int(data[2]) >= min_year and int(data[2]) <= max_year and data[3] == gender and data[4] == state:\n",
    "            counter = counter + int(data[5])\n",
    "        # print(line.strip())\n",
    "        # break\n",
    "\n",
    "print(\"There are \" + str(counter) + \" occurrences for \\\"\" + name + \"\\\"(\" + gender + \") in \"\n",
    "      + state + \" between \" + str(min_year) + \" and \" + str(max_year) + \".\")"
   ]
  },
  {
   "cell_type": "markdown",
   "metadata": {},
   "source": [
    "# Abschnitt 7: Listen"
   ]
  },
  {
   "cell_type": "code",
   "execution_count": 12,
   "metadata": {},
   "outputs": [
    {
     "name": "stdout",
     "output_type": "stream",
     "text": [
      "['Josephine', 'Kalliope']\n"
     ]
    }
   ],
   "source": [
    "kinder = [\"Josephine\", \"Milka\", \"Philippa\"]\n",
    "kinder.pop()\n",
    "kinder = kinder + [\"Kalliope\"]\n",
    "del kinder[1]\n",
    "print(kinder)"
   ]
  },
  {
   "cell_type": "code",
   "execution_count": 18,
   "metadata": {},
   "outputs": [
    {
     "name": "stdout",
     "output_type": "stream",
     "text": [
      "['Josephine', 'Milka', 'Philippa', 'Kalliope', 'Josephine']\n",
      "['Milka', 'Philippa', 'Kalliope', 'Josephine']\n",
      "['Milka', 'Philippa', 'Kalliope']\n"
     ]
    }
   ],
   "source": [
    "kinder = [\"Josephine\", \"Milka\", \"Philippa\"]\n",
    "kinder.append(\"Kalliope\")\n",
    "kinder.append(\"Josephine\")\n",
    "print(kinder)\n",
    "kinder.remove(\"Josephine\") # only removes first instance \n",
    "print(kinder)\n",
    "kinder.remove(\"Josephine\") # only removes first instance\n",
    "print(kinder)"
   ]
  },
  {
   "cell_type": "code",
   "execution_count": 21,
   "metadata": {},
   "outputs": [
    {
     "name": "stdout",
     "output_type": "stream",
     "text": [
      "['Philippa', 'Kalliope']\n"
     ]
    }
   ],
   "source": [
    "print(kinder[1:3])"
   ]
  },
  {
   "cell_type": "code",
   "execution_count": 22,
   "metadata": {},
   "outputs": [
    {
     "name": "stdout",
     "output_type": "stream",
     "text": [
      "['Philippa']\n"
     ]
    }
   ],
   "source": [
    "print(kinder[1:-1])"
   ]
  },
  {
   "cell_type": "code",
   "execution_count": 24,
   "metadata": {},
   "outputs": [
    {
     "name": "stdout",
     "output_type": "stream",
     "text": [
      "Hallo\n",
      "Welt\n"
     ]
    }
   ],
   "source": [
    "print(\"Hallo Welt\"[:5])\n",
    "print(\"Hallo Welt\"[-4:])"
   ]
  },
  {
   "cell_type": "code",
   "execution_count": 25,
   "metadata": {},
   "outputs": [
    {
     "name": "stdout",
     "output_type": "stream",
     "text": [
      "Max Musterm\n"
     ]
    }
   ],
   "source": [
    "print(\"Max Mustermann\"[:-3])"
   ]
  },
  {
   "cell_type": "code",
   "execution_count": 4,
   "metadata": {},
   "outputs": [
    {
     "name": "stdout",
     "output_type": "stream",
     "text": [
      "[1, 4, 9, 16, 25, 36, 49, 64]\n",
      "[1, 4, 9, 16, 25, 36, 49, 64]\n"
     ]
    }
   ],
   "source": [
    "xs = [1, 2, 3, 4, 5, 6, 7, 8]\n",
    "ys = []\n",
    "\n",
    "for x in xs:\n",
    "    ys.append(x**2)\n",
    "print(ys)\n",
    "\n",
    "# shorthand\n",
    "ys = [x**2 for x in xs]\n",
    "print(ys)"
   ]
  },
  {
   "cell_type": "code",
   "execution_count": 11,
   "metadata": {},
   "outputs": [
    {
     "name": "stdout",
     "output_type": "stream",
     "text": [
      "[9, 5, 8]\n",
      "[9, 5, 8]\n",
      "[9, 5, 8]\n"
     ]
    }
   ],
   "source": [
    "kinder = [\"Josephine\", \"Milka\", \"Philippa\"]\n",
    "\n",
    "lengths = []\n",
    "for i in range(0, len(kinder)):\n",
    "    lengths.append(len(kinder[i]))\n",
    "print(lengths)\n",
    "\n",
    "lengths = []\n",
    "for kind in kinder:\n",
    "    lengths.append(len(kind))\n",
    "print(lengths)\n",
    "\n",
    "lengths = [len(kind) for kind in kinder]\n",
    "print(lengths)"
   ]
  },
  {
   "cell_type": "code",
   "execution_count": 15,
   "metadata": {},
   "outputs": [
    {
     "name": "stdout",
     "output_type": "stream",
     "text": [
      "[0.0, 0.1, 0.2, 0.3, 0.4, 0.5, 0.6, 0.7, 0.8, 0.9, 1.0, 1.1, 1.2, 1.3, 1.4, 1.5, 1.6, 1.7, 1.8, 1.9, 2.0, 2.1, 2.2, 2.3, 2.4, 2.5, 2.6, 2.7, 2.8, 2.9, 3.0, 3.1, 3.2, 3.3, 3.4, 3.5, 3.6, 3.7, 3.8, 3.9, 4.0, 4.1, 4.2, 4.3, 4.4, 4.5, 4.6, 4.7, 4.8, 4.9, 5.0, 5.1, 5.2, 5.3, 5.4, 5.5, 5.6, 5.7, 5.8, 5.9, 6.0, 6.1, 6.2, 6.3, 6.4, 6.5, 6.6, 6.7, 6.8, 6.9, 7.0, 7.1, 7.2, 7.3, 7.4, 7.5, 7.6, 7.7, 7.8, 7.9, 8.0, 8.1, 8.2, 8.3, 8.4, 8.5, 8.6, 8.7, 8.8, 8.9, 9.0, 9.1, 9.2, 9.3, 9.4, 9.5, 9.6, 9.7, 9.8, 9.9]\n",
      "[0.0, 0.010000000000000002, 0.04000000000000001, 0.09, 0.16000000000000003, 0.25, 0.36, 0.48999999999999994, 0.6400000000000001, 0.81, 1.0, 1.2100000000000002, 1.44, 1.6900000000000002, 1.9599999999999997, 2.25, 2.5600000000000005, 2.8899999999999997, 3.24, 3.61, 4.0, 4.41, 4.840000000000001, 5.289999999999999, 5.76, 6.25, 6.760000000000001, 7.290000000000001, 7.839999999999999, 8.41, 9.0, 9.610000000000001, 10.240000000000002, 10.889999999999999, 11.559999999999999, 12.25, 12.96, 13.690000000000001, 14.44, 15.209999999999999, 16.0, 16.81, 17.64, 18.49, 19.360000000000003, 20.25, 21.159999999999997, 22.090000000000003, 23.04, 24.010000000000005, 25.0, 26.009999999999998, 27.040000000000003, 28.09, 29.160000000000004, 30.25, 31.359999999999996, 32.49, 33.64, 34.81, 36.0, 37.209999999999994, 38.440000000000005, 39.69, 40.96000000000001, 42.25, 43.559999999999995, 44.89, 46.239999999999995, 47.61000000000001, 49.0, 50.41, 51.84, 53.29, 54.760000000000005, 56.25, 57.76, 59.290000000000006, 60.839999999999996, 62.410000000000004, 64.0, 65.61, 67.24, 68.89000000000001, 70.56, 72.25, 73.96, 75.68999999999998, 77.44000000000001, 79.21000000000001, 81.0, 82.80999999999999, 84.63999999999999, 86.49000000000001, 88.36000000000001, 90.25, 92.16, 94.08999999999999, 96.04000000000002, 98.01]\n"
     ]
    },
    {
     "data": {
      "image/png": "[encoded data removed]",
      "text/plain": [
       "<Figure size 432x288 with 1 Axes>"
      ]
     },
     "metadata": {
      "needs_background": "light"
     },
     "output_type": "display_data"
    }
   ],
   "source": [
    "xs = [x/10 for x in range(0,100)]\n",
    "print(xs)\n",
    "ys = [y**2 for y in xs]\n",
    "print(ys)\n",
    "\n",
    "import matplotlib.pyplot as plt\n",
    "plt.plot(xs, ys)\n",
    "plt.show()"
   ]
  },
  {
   "cell_type": "markdown",
   "metadata": {},
   "source": [
    "## Dictionaries"
   ]
  },
  {
   "cell_type": "code",
   "execution_count": 20,
   "metadata": {},
   "outputs": [
    {
     "name": "stdout",
     "output_type": "stream",
     "text": [
      "{'Berlin': 'BER', 'Helsinki': 'HEL', 'Saigon': 'SGN'}\n"
     ]
    }
   ],
   "source": [
    "d = {\"Berlin\": \"BER\", \"Helsinki\": \"HEL\", \"Saigon\": \"SGN\"} # key : value strore for mappings\n",
    "print(d)"
   ]
  },
  {
   "cell_type": "code",
   "execution_count": 27,
   "metadata": {},
   "outputs": [
    {
     "name": "stdout",
     "output_type": "stream",
     "text": [
      "BER\n"
     ]
    },
    {
     "data": {
      "text/plain": [
       "'BER'"
      ]
     },
     "execution_count": 27,
     "metadata": {},
     "output_type": "execute_result"
    }
   ],
   "source": [
    "print(d[\"Berlin\"])\n",
    "d.get(\"Berlin\")"
   ]
  },
  {
   "cell_type": "code",
   "execution_count": 24,
   "metadata": {},
   "outputs": [
    {
     "name": "stdout",
     "output_type": "stream",
     "text": [
      "{'Berlin': 'BER', 'Helsinki': 'HEL', 'Saigon': 'SGN', 'Budapest': 'BUD'}\n"
     ]
    }
   ],
   "source": [
    "d[\"Budapest\"] = \"BUD\"\n",
    "print(d)"
   ]
  },
  {
   "cell_type": "code",
   "execution_count": 25,
   "metadata": {},
   "outputs": [
    {
     "name": "stdout",
     "output_type": "stream",
     "text": [
      "{'Berlin': 'BER', 'Saigon': 'SGN', 'Budapest': 'BUD'}\n"
     ]
    }
   ],
   "source": [
    "del d[\"Helsinki\"]\n",
    "print(d)"
   ]
  },
  {
   "cell_type": "code",
   "execution_count": 26,
   "metadata": {},
   "outputs": [
    {
     "data": {
      "text/plain": [
       "True"
      ]
     },
     "execution_count": 26,
     "metadata": {},
     "output_type": "execute_result"
    }
   ],
   "source": [
    "\"Berlin\" in d"
   ]
  },
  {
   "cell_type": "code",
   "execution_count": 28,
   "metadata": {},
   "outputs": [
    {
     "ename": "KeyError",
     "evalue": "'Helsinki'",
     "output_type": "error",
     "traceback": [
      "\u001b[1;31m---------------------------------------------------------------------------\u001b[0m",
      "\u001b[1;31mKeyError\u001b[0m                                  Traceback (most recent call last)",
      "\u001b[1;32m<ipython-input-28-faee20c08031>\u001b[0m in \u001b[0;36m<module>\u001b[1;34m\u001b[0m\n\u001b[1;32m----> 1\u001b[1;33m \u001b[0md\u001b[0m\u001b[1;33m[\u001b[0m\u001b[1;34m\"Helsinki\"\u001b[0m\u001b[1;33m]\u001b[0m\u001b[1;33m\u001b[0m\u001b[1;33m\u001b[0m\u001b[0m\n\u001b[0m",
      "\u001b[1;31mKeyError\u001b[0m: 'Helsinki'"
     ]
    }
   ],
   "source": [
    "d[\"Helsinki\"] # entry has to exist"
   ]
  },
  {
   "cell_type": "code",
   "execution_count": 31,
   "metadata": {},
   "outputs": [
    {
     "name": "stdout",
     "output_type": "stream",
     "text": [
      "None\n"
     ]
    }
   ],
   "source": [
    "print(d.get(\"Helsinki\")) # entry might not exist"
   ]
  },
  {
   "cell_type": "markdown",
   "metadata": {},
   "source": [
    "## Tuples"
   ]
  },
  {
   "cell_type": "code",
   "execution_count": 34,
   "metadata": {},
   "outputs": [
    {
     "name": "stdout",
     "output_type": "stream",
     "text": [
      "(1, 2, 3)\n"
     ]
    }
   ],
   "source": [
    "t = (1, 2, 3) # immutable object, has fixed length\n",
    "print(t)"
   ]
  },
  {
   "cell_type": "code",
   "execution_count": 33,
   "metadata": {},
   "outputs": [
    {
     "name": "stdout",
     "output_type": "stream",
     "text": [
      "2\n"
     ]
    }
   ],
   "source": [
    "print(t[1])"
   ]
  },
  {
   "cell_type": "code",
   "execution_count": 36,
   "metadata": {},
   "outputs": [
    {
     "ename": "TypeError",
     "evalue": "'tuple' object does not support item assignment",
     "output_type": "error",
     "traceback": [
      "\u001b[1;31m---------------------------------------------------------------------------\u001b[0m",
      "\u001b[1;31mTypeError\u001b[0m                                 Traceback (most recent call last)",
      "\u001b[1;32m<ipython-input-36-ca90d49f8f43>\u001b[0m in \u001b[0;36m<module>\u001b[1;34m\u001b[0m\n\u001b[1;32m----> 1\u001b[1;33m \u001b[0mt\u001b[0m\u001b[1;33m[\u001b[0m\u001b[1;36m1\u001b[0m\u001b[1;33m]\u001b[0m \u001b[1;33m=\u001b[0m \u001b[1;36m7\u001b[0m \u001b[1;31m# immutable\u001b[0m\u001b[1;33m\u001b[0m\u001b[1;33m\u001b[0m\u001b[0m\n\u001b[0m",
      "\u001b[1;31mTypeError\u001b[0m: 'tuple' object does not support item assignment"
     ]
    }
   ],
   "source": [
    "t[1] = 7 # immutable"
   ]
  },
  {
   "cell_type": "code",
   "execution_count": 2,
   "metadata": {},
   "outputs": [
    {
     "name": "stdout",
     "output_type": "stream",
     "text": [
      "Josephine\n",
      "6\n",
      "Schülerin\n"
     ]
    }
   ],
   "source": [
    "kind = (\"Josephine\", 6, \"Schülerin\")\n",
    "name, alter, beruf = kind\n",
    "print(name)\n",
    "print(alter)\n",
    "print(beruf)"
   ]
  },
  {
   "cell_type": "code",
   "execution_count": 7,
   "metadata": {},
   "outputs": [
    {
     "name": "stdout",
     "output_type": "stream",
     "text": [
      "Milka\n",
      "4\n",
      "Kitakind\n",
      "Milka\n",
      "4\n",
      "Kitakind\n"
     ]
    }
   ],
   "source": [
    "def get_kind():\n",
    "    kind = (\"Milka\", 4, \"Kitakind\")\n",
    "    name, alter, beruf = kind # assignment only local / within function block\n",
    "    return(kind)\n",
    "\n",
    "mein_kind = get_kind()\n",
    "print(name)\n",
    "print(alter)\n",
    "print(beruf)\n",
    "\n",
    "name, alter, beruf = get_kind()\n",
    "print(name)\n",
    "print(alter)\n",
    "print(beruf)\n"
   ]
  },
  {
   "cell_type": "code",
   "execution_count": 5,
   "metadata": {},
   "outputs": [
    {
     "name": "stdout",
     "output_type": "stream",
     "text": [
      "('Milka', 4, 'Kitakind')\n"
     ]
    }
   ],
   "source": [
    "print(mein_kind)"
   ]
  },
  {
   "cell_type": "code",
   "execution_count": 9,
   "metadata": {},
   "outputs": [
    {
     "name": "stdout",
     "output_type": "stream",
     "text": [
      "Josephine\n",
      "6\n",
      "Milka\n",
      "4\n"
     ]
    }
   ],
   "source": [
    "kinder = [\n",
    "    (\"Josephine\", 6),\n",
    "    (\"Milka\", 4)\n",
    "]\n",
    "\n",
    "for name, alter in kinder:\n",
    "    print(name)\n",
    "    print(alter)"
   ]
  },
  {
   "cell_type": "markdown",
   "metadata": {},
   "source": [
    "## Dictionaries (revisited)"
   ]
  },
  {
   "cell_type": "code",
   "execution_count": 12,
   "metadata": {},
   "outputs": [
    {
     "ename": "ValueError",
     "evalue": "too many values to unpack (expected 2)",
     "output_type": "error",
     "traceback": [
      "\u001b[1;31m---------------------------------------------------------------------------\u001b[0m",
      "\u001b[1;31mValueError\u001b[0m                                Traceback (most recent call last)",
      "\u001b[1;32m<ipython-input-12-75565fb26f75>\u001b[0m in \u001b[0;36m<module>\u001b[1;34m\u001b[0m\n\u001b[0;32m      1\u001b[0m \u001b[0md\u001b[0m \u001b[1;33m=\u001b[0m \u001b[1;33m{\u001b[0m\u001b[1;34m\"Berlin\"\u001b[0m\u001b[1;33m:\u001b[0m \u001b[1;34m\"BER\"\u001b[0m\u001b[1;33m,\u001b[0m \u001b[1;34m\"Helsinki\"\u001b[0m\u001b[1;33m:\u001b[0m \u001b[1;34m\"HEL\"\u001b[0m\u001b[1;33m,\u001b[0m \u001b[1;34m\"Saigon\"\u001b[0m\u001b[1;33m:\u001b[0m \u001b[1;34m\"SGN\"\u001b[0m\u001b[1;33m}\u001b[0m\u001b[1;33m\u001b[0m\u001b[1;33m\u001b[0m\u001b[0m\n\u001b[0;32m      2\u001b[0m \u001b[1;33m\u001b[0m\u001b[0m\n\u001b[1;32m----> 3\u001b[1;33m \u001b[1;32mfor\u001b[0m \u001b[0mkey\u001b[0m\u001b[1;33m,\u001b[0m \u001b[0mvalue\u001b[0m \u001b[1;32min\u001b[0m \u001b[0md\u001b[0m\u001b[1;33m:\u001b[0m\u001b[1;33m\u001b[0m\u001b[1;33m\u001b[0m\u001b[0m\n\u001b[0m\u001b[0;32m      4\u001b[0m     \u001b[0mprint\u001b[0m\u001b[1;33m(\u001b[0m\u001b[0mkey\u001b[0m \u001b[1;33m+\u001b[0m \u001b[1;34m\": \"\u001b[0m \u001b[1;33m+\u001b[0m \u001b[0mvalue\u001b[0m\u001b[1;33m)\u001b[0m\u001b[1;33m\u001b[0m\u001b[1;33m\u001b[0m\u001b[0m\n",
      "\u001b[1;31mValueError\u001b[0m: too many values to unpack (expected 2)"
     ]
    }
   ],
   "source": [
    "d = {\"Berlin\": \"BER\", \"Helsinki\": \"HEL\", \"Saigon\": \"SGN\"}\n",
    "\n",
    "for key, value in d:\n",
    "    print(key + \": \" + value)"
   ]
  },
  {
   "cell_type": "code",
   "execution_count": 13,
   "metadata": {},
   "outputs": [
    {
     "name": "stdout",
     "output_type": "stream",
     "text": [
      "Berlin: BER\n",
      "Helsinki: HEL\n",
      "Saigon: SGN\n"
     ]
    }
   ],
   "source": [
    "d = {\"Berlin\": \"BER\", \"Helsinki\": \"HEL\", \"Saigon\": \"SGN\"}\n",
    "\n",
    "for key, value in d.items():\n",
    "    print(key + \": \" + value)"
   ]
  },
  {
   "cell_type": "markdown",
   "metadata": {},
   "source": [
    "## Assignment: name distributions & dictionaries"
   ]
  },
  {
   "cell_type": "code",
   "execution_count": 22,
   "metadata": {},
   "outputs": [
    {
     "name": "stdout",
     "output_type": "stream",
     "text": [
      "James has the maximum number of births with 4957166 births total.\n"
     ]
    }
   ],
   "source": [
    "names = {}\n",
    "\n",
    "import os\n",
    "cwd = os.getcwd()\n",
    "filepath = cwd + \"\\\\data\\\\names.csv\"\n",
    "\n",
    "counter = 0\n",
    "\n",
    "with open(filepath, \"r\") as file:\n",
    "    for line in file:\n",
    "        idf, name, year, gender, state, count = line.strip().split(\",\")\n",
    "        if idf == \"Id\":\n",
    "            continue # skip header line\n",
    "        if name in names:\n",
    "            names[name] = names[name] + int(count) # if already in dictionary: add count to current count\n",
    "        else: # create entry in dictionary\n",
    "            names[name] = int(count)\n",
    "        \n",
    "# Find maximum in dictionary\n",
    "max_value = 0\n",
    "max_name = \"\"\n",
    "for name, count in names.items():\n",
    "    if count > max_value:\n",
    "        max_value = count\n",
    "        max_name = name\n",
    "\n",
    "print(max_name + \" has the maximum number of births with \" + str(max_value) + \" births total.\")"
   ]
  },
  {
   "cell_type": "markdown",
   "metadata": {},
   "source": [
    "## Lists of lists"
   ]
  },
  {
   "cell_type": "code",
   "execution_count": 24,
   "metadata": {},
   "outputs": [
    {
     "data": {
      "text/plain": [
       "'Pécs'"
      ]
     },
     "execution_count": 24,
     "metadata": {},
     "output_type": "execute_result"
    }
   ],
   "source": [
    "liste = [\n",
    "    [\"Berlin\", \"München\", \"Köln\"],\n",
    "    [\"Budapest\", \"Pécs\", \"Sopron\"]\n",
    "]\n",
    "\n",
    "liste[1]\n",
    "liste[1][1]"
   ]
  },
  {
   "cell_type": "code",
   "execution_count": 25,
   "metadata": {},
   "outputs": [
    {
     "data": {
      "text/plain": [
       "['Justus', 'Sophie']"
      ]
     },
     "execution_count": 25,
     "metadata": {},
     "output_type": "execute_result"
    }
   ],
   "source": [
    "students = {\n",
    "    \"Informatik\": [\"Max\", \"Monika\"],\n",
    "    \"BWL\": [\"Justus\", \"Sophie\"]\n",
    "}\n",
    "\n",
    "students[\"BWL\"]"
   ]
  },
  {
   "cell_type": "code",
   "execution_count": 12,
   "metadata": {},
   "outputs": [
    {
     "data": {
      "text/plain": [
       "[[1], [3]]"
      ]
     },
     "execution_count": 12,
     "metadata": {},
     "output_type": "execute_result"
    }
   ],
   "source": [
    "# Matrix multiplication\n",
    "A = [\n",
    "    [1, 2],\n",
    "    [3, 4]\n",
    "]\n",
    "\n",
    "B = [\n",
    "    [1],\n",
    "    [0]\n",
    "]\n",
    "\n",
    "def mmult(A, B):\n",
    "    C = []\n",
    "    \n",
    "    if len(A[0]) != len(B): # matrix dimensions do not match!\n",
    "        return(None)\n",
    "    \n",
    "    for i in range(0, len(A)):\n",
    "        C.append([])\n",
    "        for k in range(0, len(B[0])):\n",
    "            run_sum = 0\n",
    "            for j in range(0, len(A[0])):\n",
    "                run_sum = run_sum + A[i][j] * B[j][k]\n",
    "            C[i].append(run_sum)\n",
    "            \n",
    "    return(C)\n",
    "\n",
    "mmult(A, B)"
   ]
  },
  {
   "cell_type": "markdown",
   "metadata": {},
   "source": [
    "# Abschnitt 8: Objektorientierung"
   ]
  },
  {
   "cell_type": "code",
   "execution_count": 58,
   "metadata": {},
   "outputs": [
    {
     "name": "stdout",
     "output_type": "stream",
     "text": [
      "Erik Mustermann\n"
     ]
    }
   ],
   "source": [
    "class Student():\n",
    "    pass # does nothing, used for minimal class definitions\n",
    "\n",
    "def get_name(student):\n",
    "    print(student.firstname + \" \" + student.lastname)\n",
    "\n",
    "erik = Student()\n",
    "erik.firstname = \"Erik\"\n",
    "erik.lastname = \"Mustermann\"\n",
    "get_name(erik)"
   ]
  },
  {
   "cell_type": "code",
   "execution_count": 1,
   "metadata": {},
   "outputs": [
    {
     "name": "stdout",
     "output_type": "stream",
     "text": [
      "kn0wn gGmbH\n"
     ]
    }
   ],
   "source": [
    "class Company():\n",
    "    pass # does nothing, used for minimal class definitions\n",
    "\n",
    "def get_name(company):\n",
    "    print(company.legal_name + \" \" + company.legal_type)\n",
    "\n",
    "c = Company()\n",
    "c.legal_name = \"kn0wn\"\n",
    "c.legal_type = \"gGmbH\"\n",
    "get_name(c)"
   ]
  },
  {
   "cell_type": "code",
   "execution_count": 3,
   "metadata": {},
   "outputs": [
    {
     "ename": "NameError",
     "evalue": "name 'erik' is not defined",
     "output_type": "error",
     "traceback": [
      "\u001b[1;31m---------------------------------------------------------------------------\u001b[0m",
      "\u001b[1;31mNameError\u001b[0m                                 Traceback (most recent call last)",
      "\u001b[1;32m<ipython-input-3-0f6e1637a808>\u001b[0m in \u001b[0;36m<module>\u001b[1;34m\u001b[0m\n\u001b[1;32m----> 1\u001b[1;33m \u001b[0mget_name\u001b[0m\u001b[1;33m(\u001b[0m\u001b[0merik\u001b[0m\u001b[1;33m)\u001b[0m \u001b[1;31m#get_name as global function was overwritten\u001b[0m\u001b[1;33m\u001b[0m\u001b[1;33m\u001b[0m\u001b[0m\n\u001b[0m",
      "\u001b[1;31mNameError\u001b[0m: name 'erik' is not defined"
     ]
    }
   ],
   "source": [
    "get_name(erik) #get_name as global function was overwritten"
   ]
  },
  {
   "cell_type": "code",
   "execution_count": 9,
   "metadata": {},
   "outputs": [
    {
     "name": "stdout",
     "output_type": "stream",
     "text": [
      "Erik Mustermann\n",
      "kn0wn gGmbH\n",
      "Erik Mustermann\n"
     ]
    }
   ],
   "source": [
    "class Student():\n",
    "    def get_name(self):\n",
    "        print(self.firstname + \" \" + self.lastname)\n",
    "\n",
    "erik = Student()\n",
    "erik.firstname = \"Erik\"\n",
    "erik.lastname = \"Mustermann\"\n",
    "erik.get_name()\n",
    "\n",
    "class Company():\n",
    "    def get_name(self):\n",
    "        print(self.legal_name + \" \" + self.legal_type)\n",
    "    \n",
    "    def add_name(self, string):\n",
    "        print(self.get_name())\n",
    "        print(string)\n",
    "\n",
    "c = Company()\n",
    "c.legal_name = \"kn0wn\"\n",
    "c.legal_type = \"gGmbH\"\n",
    "c.get_name()\n",
    "\n",
    "erik.get_name()"
   ]
  },
  {
   "cell_type": "code",
   "execution_count": 10,
   "metadata": {},
   "outputs": [
    {
     "name": "stdout",
     "output_type": "stream",
     "text": [
      "kn0wn gGmbH\n",
      "None\n",
      "Great company!\n"
     ]
    }
   ],
   "source": [
    "c.add_name(\"Great company!\")"
   ]
  },
  {
   "cell_type": "code",
   "execution_count": 18,
   "metadata": {},
   "outputs": [
    {
     "name": "stdout",
     "output_type": "stream",
     "text": [
      "Erik Mustermann (Semester: 1)\n",
      "Erik Mustermann (Semester: 2)\n",
      "Erik Mustermann (Semester: 100)\n"
     ]
    }
   ],
   "source": [
    "class Student():\n",
    "    \n",
    "    def __init__(self, firstname, lastname):\n",
    "        self.firstname = firstname\n",
    "        self.lastname = lastname\n",
    "        self._term = 1 # coding convention for developers: please do not change variable\n",
    "    \n",
    "    def increase_term(self):\n",
    "        if self._term >= 9:\n",
    "            return\n",
    "        self._term += 1\n",
    "    \n",
    "    def name(self):\n",
    "        print(self.firstname + \" \" + self.lastname + \" (Semester: \" + str(self._term) + \")\")\n",
    "\n",
    "erik = Student(\"Erik\", \"Mustermann\")\n",
    "erik.name()\n",
    "erik.increase_term()\n",
    "erik.name()\n",
    "erik._term = 100\n",
    "erik.name()"
   ]
  },
  {
   "cell_type": "code",
   "execution_count": 42,
   "metadata": {},
   "outputs": [
    {
     "name": "stdout",
     "output_type": "stream",
     "text": [
      "Erik Mustermann (Semester: 1)\n",
      "Erik Mustermann (Semester: 2)\n",
      "Erik Mustermann (Semester: 2)\n",
      "2\n",
      "-- STR --\n",
      "13\n"
     ]
    },
    {
     "data": {
      "text/plain": [
       "'Ich bin ein Student'"
      ]
     },
     "execution_count": 42,
     "metadata": {},
     "output_type": "execute_result"
    }
   ],
   "source": [
    "class Student():\n",
    "    \n",
    "    class_variable = \"Ich bin ein Student\"\n",
    "    \n",
    "    def __init__(self, firstname, lastname):\n",
    "        self.firstname = firstname\n",
    "        self.lastname = lastname\n",
    "        self.__term = 1 # private variable, cannot be changed from outside\n",
    "    \n",
    "    def increase_term(self):\n",
    "        if self.__term >= 9:\n",
    "            return\n",
    "        self.__term += 1\n",
    "    \n",
    "    def name(self):\n",
    "        print(self.firstname + \" \" + self.lastname + \" (Semester: \" + str(self.__term) + \")\")\n",
    "\n",
    "    def get_term(self):\n",
    "        return self.__term\n",
    "    \n",
    "    def __do_not_use(self):\n",
    "        return self.lastname\n",
    "    \n",
    "    def __str__(self):\n",
    "        return \"-- STR --\" # print method for my class\n",
    "    \n",
    "    def __len__(self):\n",
    "        return 13 # len method for my class\n",
    "    \n",
    "    \n",
    "erik = Student(\"Erik\", \"Mustermann\")\n",
    "erik.name()\n",
    "erik.increase_term()\n",
    "erik.name()\n",
    "\n",
    "erik.__term = 100 # does not anything, since variable cannot be changed\n",
    "erik.name()\n",
    "erik.__term\n",
    "\n",
    "print(erik.get_term())\n",
    "print(erik)\n",
    "print(len(erik))\n",
    "\n",
    "Student.class_variable"
   ]
  },
  {
   "cell_type": "markdown",
   "metadata": {},
   "source": [
    "## Get types of variables and objects"
   ]
  },
  {
   "cell_type": "code",
   "execution_count": 32,
   "metadata": {},
   "outputs": [
    {
     "data": {
      "text/plain": [
       "int"
      ]
     },
     "execution_count": 32,
     "metadata": {},
     "output_type": "execute_result"
    }
   ],
   "source": [
    "my_int = 3\n",
    "type(my_int)"
   ]
  },
  {
   "cell_type": "code",
   "execution_count": 34,
   "metadata": {},
   "outputs": [
    {
     "data": {
      "text/plain": [
       "float"
      ]
     },
     "execution_count": 34,
     "metadata": {},
     "output_type": "execute_result"
    }
   ],
   "source": [
    "my_float = 3.0\n",
    "type(my_float)"
   ]
  },
  {
   "cell_type": "code",
   "execution_count": 35,
   "metadata": {},
   "outputs": [
    {
     "data": {
      "text/plain": [
       "True"
      ]
     },
     "execution_count": 35,
     "metadata": {},
     "output_type": "execute_result"
    }
   ],
   "source": [
    "isinstance(my_float, float)"
   ]
  },
  {
   "cell_type": "code",
   "execution_count": 36,
   "metadata": {},
   "outputs": [
    {
     "data": {
      "text/plain": [
       "8"
      ]
     },
     "execution_count": 36,
     "metadata": {},
     "output_type": "execute_result"
    }
   ],
   "source": [
    "my_int.__add__(5) # internal function call for \"my_int + 5\""
   ]
  },
  {
   "cell_type": "markdown",
   "metadata": {},
   "source": [
    "## Python style guide conventions\n",
    "\n",
    "Style guide: https://www.python.org/dev/peps/pep-0008/"
   ]
  },
  {
   "cell_type": "code",
   "execution_count": 37,
   "metadata": {},
   "outputs": [],
   "source": [
    "PascalCase = \"this!\"\n",
    "camelCase = \"this!\"\n",
    "sneak_case = \"this!\""
   ]
  },
  {
   "cell_type": "code",
   "execution_count": 38,
   "metadata": {},
   "outputs": [],
   "source": [
    "class PascalCase: # classes are usually written in PascalCase\n",
    "    pass"
   ]
  },
  {
   "cell_type": "code",
   "execution_count": 39,
   "metadata": {},
   "outputs": [],
   "source": [
    "sneak_case = \"Wird für Variablen verwendet\""
   ]
  },
  {
   "cell_type": "code",
   "execution_count": 40,
   "metadata": {},
   "outputs": [
    {
     "name": "stdout",
     "output_type": "stream",
     "text": [
      "camelCase gibt es in Python nicht!\n"
     ]
    }
   ],
   "source": [
    "print(\"camelCase gibt es in Python nicht!\")"
   ]
  },
  {
   "cell_type": "markdown",
   "metadata": {},
   "source": [
    "# Abschnitt 9: Module"
   ]
  },
  {
   "cell_type": "code",
   "execution_count": 2,
   "metadata": {},
   "outputs": [
    {
     "ename": "ModuleNotFoundError",
     "evalue": "No module named 'Test'",
     "output_type": "error",
     "traceback": [
      "\u001b[1;31m---------------------------------------------------------------------------\u001b[0m",
      "\u001b[1;31mModuleNotFoundError\u001b[0m                       Traceback (most recent call last)",
      "\u001b[1;32m<ipython-input-2-16d3cb8a1d86>\u001b[0m in \u001b[0;36m<module>\u001b[1;34m\u001b[0m\n\u001b[1;32m----> 1\u001b[1;33m \u001b[1;32mimport\u001b[0m \u001b[0mTest\u001b[0m \u001b[1;31m# located in different folder -> needs to be changed\u001b[0m\u001b[1;33m\u001b[0m\u001b[1;33m\u001b[0m\u001b[0m\n\u001b[0m",
      "\u001b[1;31mModuleNotFoundError\u001b[0m: No module named 'Test'"
     ]
    }
   ],
   "source": [
    "import Test # located in different folder -> needs to be changed"
   ]
  },
  {
   "cell_type": "code",
   "execution_count": 8,
   "metadata": {},
   "outputs": [
    {
     "name": "stdout",
     "output_type": "stream",
     "text": [
      "my first python module was successfully loaded\n",
      "Hallo Welt!\n",
      "Hallo Mars!\n"
     ]
    }
   ],
   "source": [
    "from Module import Test\n",
    "\n",
    "Test.welt()\n",
    "Test.mars()"
   ]
  },
  {
   "cell_type": "code",
   "execution_count": 2,
   "metadata": {},
   "outputs": [
    {
     "name": "stdout",
     "output_type": "stream",
     "text": [
      "my first python module was successfully loaded\n",
      "Hallo Welt!\n",
      "Hallo Mars!\n"
     ]
    }
   ],
   "source": [
    "from Module import * # loads all sub-modules listed in __init__.py in variable __all__\n",
    "\n",
    "Test.welt()\n",
    "Test.mars()"
   ]
  },
  {
   "cell_type": "code",
   "execution_count": 1,
   "metadata": {},
   "outputs": [
    {
     "name": "stdout",
     "output_type": "stream",
     "text": [
      "my first python module was successfully loaded\n",
      "Hallo Welt!\n",
      "Hallo Welt!\n"
     ]
    }
   ],
   "source": [
    "import Module # loads all sub-modules when \"import . from <submodule-name>\" in __init__.py is included\n",
    "Module.Test.welt()\n",
    "Module.Test.welt()"
   ]
  },
  {
   "cell_type": "code",
   "execution_count": 6,
   "metadata": {},
   "outputs": [
    {
     "data": {
      "image/png": "[encoded data removed]",
      "text/plain": [
       "<Figure size 432x288 with 1 Axes>"
      ]
     },
     "metadata": {
      "needs_background": "light"
     },
     "output_type": "display_data"
    }
   ],
   "source": [
    "%matplotlib inline\n",
    "import matplotlib.pyplot as plt # only loads pyplot from sub-module pyplot from module matplotlib\n",
    "\n",
    "plt.plot([1, 2, 3], [1, 4, 9])\n",
    "plt.show()"
   ]
  },
  {
   "cell_type": "code",
   "execution_count": 7,
   "metadata": {},
   "outputs": [
    {
     "data": {
      "image/png": "[encoded data removed]",
      "text/plain": [
       "<Figure size 432x288 with 1 Axes>"
      ]
     },
     "metadata": {
      "needs_background": "light"
     },
     "output_type": "display_data"
    }
   ],
   "source": [
    "from matplotlib import pyplot # loads complete sub-module\n",
    "\n",
    "pyplot.plot([1, 2, 3], [1, 4, 9])\n",
    "pyplot.show()"
   ]
  },
  {
   "cell_type": "markdown",
   "metadata": {},
   "source": [
    "## Modules (continued)\n",
    "\n",
    "Python module index: https://docs.python.org/3/py-modindex.html"
   ]
  },
  {
   "cell_type": "code",
   "execution_count": 17,
   "metadata": {},
   "outputs": [
    {
     "name": "stdout",
     "output_type": "stream",
     "text": [
      "3.6.9 (default, Nov  7 2019, 10:44:02) \n",
      "[GCC 8.3.0]\n"
     ]
    }
   ],
   "source": [
    "import sys\n",
    "print(sys.version)"
   ]
  },
  {
   "cell_type": "code",
   "execution_count": 18,
   "metadata": {},
   "outputs": [
    {
     "name": "stdout",
     "output_type": "stream",
     "text": [
      "['Muenchen;1800000;MUC']\n",
      "['Berlin;3500000;Berlin']\n",
      "['Budapest;2000000;BUD']\n"
     ]
    }
   ],
   "source": [
    "import csv\n",
    "with open(\"datei.csv\", newline='') as file:\n",
    "    csv_file = csv.reader(file, delimiter = \",\")\n",
    "    for line in csv_file:\n",
    "        print(line)"
   ]
  },
  {
   "cell_type": "markdown",
   "metadata": {},
   "source": [
    "# Abschnitt 10: Crawler"
   ]
  },
  {
   "cell_type": "code",
   "execution_count": 59,
   "metadata": {},
   "outputs": [],
   "source": [
    "# fehlt"
   ]
  },
  {
   "cell_type": "markdown",
   "metadata": {},
   "source": [
    "# Abschnitt 11: Exceptions"
   ]
  },
  {
   "cell_type": "code",
   "execution_count": 60,
   "metadata": {},
   "outputs": [],
   "source": [
    "# fehlt"
   ]
  },
  {
   "cell_type": "markdown",
   "metadata": {},
   "source": [
    "# Abschnitt 12: Datenstrukturen in Python"
   ]
  },
  {
   "cell_type": "code",
   "execution_count": null,
   "metadata": {},
   "outputs": [],
   "source": [
    "# fehlt"
   ]
  },
  {
   "cell_type": "markdown",
   "metadata": {},
   "source": [
    "# Abschnitt 13: Funktionsparameter & Sortierung"
   ]
  },
  {
   "cell_type": "code",
   "execution_count": 19,
   "metadata": {},
   "outputs": [
    {
     "name": "stdout",
     "output_type": "stream",
     "text": [
      "3\n",
      "5\n"
     ]
    }
   ],
   "source": [
    "# Call by value (primitive Datentypen)\n",
    "a = 5\n",
    "\n",
    "def f(x):\n",
    "    x = 3\n",
    "    print(x)\n",
    "\n",
    "f(a)\n",
    "print(a)"
   ]
  },
  {
   "cell_type": "code",
   "execution_count": 20,
   "metadata": {},
   "outputs": [
    {
     "name": "stdout",
     "output_type": "stream",
     "text": [
      "['Meine', 'tolle', 'Liste', '!']\n",
      "['Meine', 'tolle', 'Liste', '!']\n"
     ]
    }
   ],
   "source": [
    "# Call by reference (komplexe Datenstrukturen)\n",
    "l = [\"Meine\", \"tolle\", \"Liste\"]\n",
    "\n",
    "def f(x):\n",
    "    x.append(\"!\")\n",
    "    print(x)\n",
    "\n",
    "f(l)\n",
    "print(l)"
   ]
  },
  {
   "cell_type": "code",
   "execution_count": 21,
   "metadata": {},
   "outputs": [
    {
     "name": "stdout",
     "output_type": "stream",
     "text": [
      "['Meine', 'tolle', 'Liste', '!']\n",
      "['Meine', 'tolle', 'Liste']\n"
     ]
    }
   ],
   "source": [
    "# Call by reference - again\n",
    "l = [\"Meine\", \"tolle\", \"Liste\"]\n",
    "\n",
    "def f(x):\n",
    "    x = [\"Meine\", \"tolle\", \"Liste\", \"!\"] # overwrites former reference and creates new object within function call\n",
    "    print(x)\n",
    "\n",
    "f(l)\n",
    "print(l)"
   ]
  },
  {
   "cell_type": "markdown",
   "metadata": {},
   "source": [
    "## Variable Funktionsparameter in Liste"
   ]
  },
  {
   "cell_type": "code",
   "execution_count": 24,
   "metadata": {},
   "outputs": [
    {
     "name": "stdout",
     "output_type": "stream",
     "text": [
      "1\n",
      "2\n",
      "3\n"
     ]
    }
   ],
   "source": [
    "def f(a, b, c):\n",
    "    print(a)\n",
    "    print(b)\n",
    "    print(c)\n",
    "\n",
    "l = [1, 2, 3]\n",
    "f(*l) # splits list and plus values into parameters"
   ]
  },
  {
   "cell_type": "code",
   "execution_count": 25,
   "metadata": {},
   "outputs": [
    {
     "ename": "TypeError",
     "evalue": "f() takes 3 positional arguments but 4 were given",
     "output_type": "error",
     "traceback": [
      "\u001b[0;31m---------------------------------------------------------------------------\u001b[0m",
      "\u001b[0;31mTypeError\u001b[0m                                 Traceback (most recent call last)",
      "\u001b[0;32m<ipython-input-25-8f27bab5eca5>\u001b[0m in \u001b[0;36m<module>\u001b[0;34m\u001b[0m\n\u001b[1;32m      1\u001b[0m \u001b[0ml\u001b[0m \u001b[0;34m=\u001b[0m \u001b[0;34m[\u001b[0m\u001b[0;36m1\u001b[0m\u001b[0;34m,\u001b[0m \u001b[0;36m2\u001b[0m\u001b[0;34m,\u001b[0m \u001b[0;36m3\u001b[0m\u001b[0;34m,\u001b[0m \u001b[0;36m4\u001b[0m\u001b[0;34m]\u001b[0m\u001b[0;34m\u001b[0m\u001b[0;34m\u001b[0m\u001b[0m\n\u001b[0;32m----> 2\u001b[0;31m \u001b[0mf\u001b[0m\u001b[0;34m(\u001b[0m\u001b[0;34m*\u001b[0m\u001b[0ml\u001b[0m\u001b[0;34m)\u001b[0m\u001b[0;34m\u001b[0m\u001b[0;34m\u001b[0m\u001b[0m\n\u001b[0m",
      "\u001b[0;31mTypeError\u001b[0m: f() takes 3 positional arguments but 4 were given"
     ]
    }
   ],
   "source": [
    "l = [1, 2, 3, 4]\n",
    "f(*l)"
   ]
  },
  {
   "cell_type": "markdown",
   "metadata": {},
   "source": [
    "## Variable Parameter"
   ]
  },
  {
   "cell_type": "code",
   "execution_count": 27,
   "metadata": {},
   "outputs": [
    {
     "data": {
      "text/plain": [
       "5"
      ]
     },
     "execution_count": 27,
     "metadata": {},
     "output_type": "execute_result"
    }
   ],
   "source": [
    "def calculate_max(*params):\n",
    "    return(max(params))\n",
    "\n",
    "calculate_max(1, 2, 3, 4, 5)"
   ]
  },
  {
   "cell_type": "code",
   "execution_count": 28,
   "metadata": {},
   "outputs": [
    {
     "name": "stdout",
     "output_type": "stream",
     "text": [
      "{'key': 'value', 'key2': 'value2'}\n"
     ]
    }
   ],
   "source": [
    "def f(**args):\n",
    "    print(args)\n",
    "\n",
    "f(key = \"value\", key2 = \"value2\")"
   ]
  },
  {
   "cell_type": "code",
   "execution_count": 29,
   "metadata": {},
   "outputs": [
    {
     "name": "stdout",
     "output_type": "stream",
     "text": [
      "Ich bin der Schlüssel\n",
      "Ich bin der Wert\n"
     ]
    }
   ],
   "source": [
    "def g(key, param2):\n",
    "    print(key)\n",
    "    print(param2)\n",
    "\n",
    "d = {\"key\": \"Ich bin der Schlüssel\", \"param2\": \"Ich bin der Wert\"}\n",
    "\n",
    "g(**d)"
   ]
  },
  {
   "cell_type": "code",
   "execution_count": 44,
   "metadata": {},
   "outputs": [
    {
     "data": {
      "image/png": "[encoded data removed]",
      "text/plain": [
       "<Figure size 432x288 with 1 Axes>"
      ]
     },
     "metadata": {
      "needs_background": "light"
     },
     "output_type": "display_data"
    }
   ],
   "source": [
    "%matplotlib inline\n",
    "import matplotlib.pyplot as plt\n",
    "\n",
    "def plot_me(**plot_params):\n",
    "    plt.plot([1, 2, 3], [5, 6, 5], **plot_params)\n",
    "    plt.show()\n",
    "\n",
    "plot_me(color = \"r\", linewidth = 5)"
   ]
  },
  {
   "cell_type": "markdown",
   "metadata": {},
   "source": [
    "## Listen sortieren"
   ]
  },
  {
   "cell_type": "code",
   "execution_count": 49,
   "metadata": {},
   "outputs": [
    {
     "name": "stdout",
     "output_type": "stream",
     "text": [
      "['Albert', 'Janna', 'Max', 'Milka', 'Philipp']\n"
     ]
    }
   ],
   "source": [
    "l = [\"Janna\", \"Milka\", \"Albert\", \"Philipp\", \"Max\"]\n",
    "l.sort() # sortiert die Liste \"in place\", d.h. die Werte bleiben sortiert erhalten\n",
    "print(l)"
   ]
  },
  {
   "cell_type": "code",
   "execution_count": 50,
   "metadata": {},
   "outputs": [
    {
     "name": "stdout",
     "output_type": "stream",
     "text": [
      "['Philipp', 'Milka', 'Max', 'Janna', 'Albert']\n"
     ]
    }
   ],
   "source": [
    "l.sort(reverse = True)\n",
    "print(l)"
   ]
  },
  {
   "cell_type": "code",
   "execution_count": 51,
   "metadata": {},
   "outputs": [
    {
     "name": "stdout",
     "output_type": "stream",
     "text": [
      "['Max', 'Milka', 'Janna', 'Albert', 'Philipp']\n"
     ]
    }
   ],
   "source": [
    "def get_length(w):\n",
    "    return(len(w))\n",
    "\n",
    "l.sort(key = get_length)\n",
    "print(l)"
   ]
  },
  {
   "cell_type": "code",
   "execution_count": 52,
   "metadata": {},
   "outputs": [
    {
     "name": "stdout",
     "output_type": "stream",
     "text": [
      "['Philipp', 'Albert', 'Milka', 'Janna', 'Max']\n"
     ]
    }
   ],
   "source": [
    "l.sort(key = len, reverse = True)\n",
    "print(l)"
   ]
  },
  {
   "cell_type": "code",
   "execution_count": 54,
   "metadata": {},
   "outputs": [
    {
     "name": "stdout",
     "output_type": "stream",
     "text": [
      "{'Elter1': 'Janna', 'Elter2': 'Philipp', 'Kind1': 'Josephine', 'Kind2': 'Milka'}\n",
      "['Elter1', 'Elter2', 'Kind1', 'Kind2']\n"
     ]
    }
   ],
   "source": [
    "# sorted() more universal, but creates a working copy and does not sort in place\n",
    "d = {\"Elter1\": \"Janna\", \"Elter2\": \"Philipp\", \"Kind1\": \"Josephine\", \"Kind2\": \"Milka\"}\n",
    "\n",
    "d2 = sorted(d) # creates copy of list and sorts it\n",
    "print(d)\n",
    "print(d2)"
   ]
  },
  {
   "cell_type": "markdown",
   "metadata": {},
   "source": [
    "## Lamdba-Funktionen"
   ]
  },
  {
   "cell_type": "code",
   "execution_count": 56,
   "metadata": {},
   "outputs": [
    {
     "data": {
      "text/plain": [
       "[('Janna', 3), ('Josephine', 4), ('Milka', 7), ('Philipp', 17)]"
      ]
     },
     "execution_count": 56,
     "metadata": {},
     "output_type": "execute_result"
    }
   ],
   "source": [
    "students = {(\"Janna\", 3), (\"Philipp\", 17), (\"Milka\", 7), (\"Josephine\", 4)}\n",
    "\n",
    "def students_key(student):\n",
    "    return(student[1])\n",
    "\n",
    "sorted(students, key = students_key)"
   ]
  },
  {
   "cell_type": "code",
   "execution_count": 61,
   "metadata": {},
   "outputs": [
    {
     "data": {
      "text/plain": [
       "[('Janna', 3), ('Josephine', 4), ('Milka', 7), ('Philipp', 17)]"
      ]
     },
     "execution_count": 61,
     "metadata": {},
     "output_type": "execute_result"
    }
   ],
   "source": [
    "sorted(students, key = lambda student: student[1])"
   ]
  },
  {
   "cell_type": "markdown",
   "metadata": {},
   "source": [
    "## Reguläre Ausdrücke"
   ]
  },
  {
   "cell_type": "code",
   "execution_count": 62,
   "metadata": {},
   "outputs": [],
   "source": [
    "import re"
   ]
  },
  {
   "cell_type": "code",
   "execution_count": 63,
   "metadata": {},
   "outputs": [],
   "source": [
    "sentence = \"Ich habe 3 Hunde die jeweils 4l Wasser brauchen und 7 kg Nahrung.\""
   ]
  },
  {
   "cell_type": "code",
   "execution_count": 65,
   "metadata": {},
   "outputs": [
    {
     "data": {
      "text/plain": [
       "9"
      ]
     },
     "execution_count": 65,
     "metadata": {},
     "output_type": "execute_result"
    }
   ],
   "source": [
    "sentence.find(\"3\") # normale Suchausdrücke geraten hier schnell an ihre Grenzen"
   ]
  },
  {
   "cell_type": "code",
   "execution_count": 66,
   "metadata": {},
   "outputs": [
    {
     "data": {
      "text/plain": [
       "['3', '4', '7']"
      ]
     },
     "execution_count": 66,
     "metadata": {},
     "output_type": "execute_result"
    }
   ],
   "source": [
    "re.findall(\"[0-9]+\", sentence)"
   ]
  },
  {
   "cell_type": "code",
   "execution_count": 67,
   "metadata": {},
   "outputs": [
    {
     "data": {
      "text/plain": [
       "<_sre.SRE_Match object; span=(9, 10), match='3'>"
      ]
     },
     "execution_count": 67,
     "metadata": {},
     "output_type": "execute_result"
    }
   ],
   "source": [
    "re.search(\"[0-9]+\", sentence)"
   ]
  },
  {
   "cell_type": "markdown",
   "metadata": {},
   "source": [
    "# Abschnitt 14: datetime und String-Formatierungen"
   ]
  },
  {
   "cell_type": "code",
   "execution_count": 68,
   "metadata": {},
   "outputs": [],
   "source": [
    "# fehlt"
   ]
  },
  {
   "cell_type": "markdown",
   "metadata": {},
   "source": [
    "# Abschnitt 15: PyCharm"
   ]
  },
  {
   "cell_type": "code",
   "execution_count": 69,
   "metadata": {},
   "outputs": [],
   "source": [
    "# fehlt"
   ]
  },
  {
   "cell_type": "markdown",
   "metadata": {},
   "source": [
    "# Abschnitt 16: Jupyter Notebooks"
   ]
  },
  {
   "cell_type": "code",
   "execution_count": 70,
   "metadata": {},
   "outputs": [],
   "source": [
    "# fehlt"
   ]
  },
  {
   "cell_type": "markdown",
   "metadata": {},
   "source": [
    "# Abschnitt 17: Flask"
   ]
  },
  {
   "cell_type": "code",
   "execution_count": 71,
   "metadata": {},
   "outputs": [],
   "source": [
    "# fehlt"
   ]
  },
  {
   "cell_type": "markdown",
   "metadata": {},
   "source": [
    "# Abschnitt 18 - Data Science Stack"
   ]
  },
  {
   "cell_type": "code",
   "execution_count": null,
   "metadata": {},
   "outputs": [],
   "source": []
  }
 ],
 "metadata": {
  "kernelspec": {
   "display_name": "Python 3",
   "language": "python",
   "name": "python3"
  },
  "language_info": {
   "codemirror_mode": {
    "name": "ipython",
    "version": 3
   },
   "file_extension": ".py",
   "mimetype": "text/x-python",
   "name": "python",
   "nbconvert_exporter": "python",
   "pygments_lexer": "ipython3",
   "version": "3.6.9"
  }
 },
 "nbformat": 4,
 "nbformat_minor": 2
}
